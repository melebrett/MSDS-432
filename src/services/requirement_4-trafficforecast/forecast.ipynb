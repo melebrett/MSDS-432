{
 "cells": [
  {
   "cell_type": "code",
   "execution_count": 1,
   "metadata": {},
   "outputs": [],
   "source": [
    "import pandas as pd\n",
    "import pandas as pd\n",
    "import geopandas as gpd\n",
    "import geopy\n",
    "from urllib.parse import quote\n",
    "from sqlalchemy import create_engine\n",
    "from geopy.geocoders import Nominatim\n",
    "from geopy.extra.rate_limiter import RateLimiter\n",
    "import os\n",
    "from dotenv import load_dotenv\n",
    "\n",
    "load_dotenv()\n",
    "\n",
    "USER = os.getenv('USER')\n",
    "PWD = os.getenv('PASSWORD')\n",
    "LAKE = os.getenv('LAKE')\n",
    "MART = os.getenv('MART')\n",
    "PORT = os.getenv('PORT')\n",
    "DB = os.getenv('DBNAME')"
   ]
  },
  {
   "cell_type": "code",
   "execution_count": 2,
   "metadata": {},
   "outputs": [],
   "source": [
    "connection_string = f\"postgresql+psycopg2://{USER}:%s@{LAKE}:{PORT}/{DB}\"\n",
    "pglake = create_engine(connection_string % quote(PWD))\n",
    "\n",
    "df_raw = pd.read_sql(\"select * from taxi_trips\", pglake)\n",
    "# pglake.close()\n",
    "\n",
    "df_raw = df_raw.loc[~((df_raw['pickupcentroidlatitude'] == \"\") | (df_raw[\"pickupcentroidlongitude\"] == \"\") | (df_raw[\"dropoffcentroidlatitude\"] == \"\") | (df_raw[\"dropoffcentroidlongitude\"] == \"\" ))]\n",
    "df_raw = df_raw.loc[~((df_raw['tripseconds'] == \"\") | (df_raw[\"tripmiles\"] == \"\"))]\n",
    "\n",
    "df_raw = df_raw.astype(\n",
    "    {\n",
    "    \"pickupcentroidlatitude\":\"float64\",\n",
    "    \"pickupcentroidlongitude\":\"float64\",\n",
    "    \"dropoffcentroidlatitude\":\"float64\",\n",
    "    \"dropoffcentroidlongitude\":\"float64\"\n",
    "     }\n",
    "    )\n",
    "\n",
    "df_raw[[\"pickupcentroidlatitude\", \"pickupcentroidlongitude\", \"dropoffcentroidlatitude\", \"dropoffcentroidlongitude\"]] = round(df_raw[[\"pickupcentroidlatitude\", \"pickupcentroidlongitude\", \"dropoffcentroidlatitude\", \"dropoffcentroidlongitude\"]],3)"
   ]
  },
  {
   "cell_type": "code",
   "execution_count": 3,
   "metadata": {},
   "outputs": [],
   "source": [
    "coords1 = df_raw.drop_duplicates(['pickupcentroidlatitude','pickupcentroidlongitude'])[[\"pickupcentroidlongitude\", \"pickupcentroidlatitude\"]]\n",
    "coords2 = df_raw.drop_duplicates(['dropoffcentroidlatitude','dropoffcentroidlongitude'])[[\"dropoffcentroidlongitude\", \"dropoffcentroidlatitude\"]]\n",
    "\n",
    "coords = pd.concat(\n",
    "    [\n",
    "    coords1.rename(columns={\"pickupcentroidlatitude\":\"latitude\",\"pickupcentroidlongitude\":\"longitude\"}).reset_index(drop=True),\n",
    "     coords2.rename(columns={ \"dropoffcentroidlatitude\":\"latitude\", \"dropoffcentroidlongitude\":\"longitude\"}).reset_index(drop=True)\n",
    "     ],\n",
    "    axis=0\n",
    ").drop_duplicates()\n",
    "\n",
    "coords[\"coords\"] = coords[\"latitude\"].astype('str') + \",\" + coords[\"longitude\"].astype('str')\n",
    "\n",
    "locator = Nominatim(user_agent='myGeocoder', timeout=10)\n",
    "rgeocode = RateLimiter(locator.reverse, min_delay_seconds=0.001)\n",
    "\n",
    "get_zipcode = lambda row: rgeocode((row['latitude'], row['longitude'])).raw['address']['postcode']\n",
    "\n",
    "coords['zip'] = coords.apply(get_zipcode, axis=1)"
   ]
  },
  {
   "cell_type": "code",
   "execution_count": 4,
   "metadata": {},
   "outputs": [],
   "source": [
    "df_raw['pickupcoords'] = df_raw[\"pickupcentroidlatitude\"].astype('str') + \",\" + df_raw[\"pickupcentroidlongitude\"].astype('str')\n",
    "df_raw['dropoffcoords'] = df_raw[\"dropoffcentroidlatitude\"].astype('str') + \",\" + df_raw[\"dropoffcentroidlongitude\"].astype('str')\n",
    "\n",
    "df_raw = df_raw.merge(\n",
    "    coords.drop_duplicates(),\n",
    "    right_on= \"coords\",\n",
    "    left_on=\"pickupcoords\",\n",
    "    how = 'left'\n",
    ").rename(columns={\"zip\":\"pickupzip\"}).merge(\n",
    "    coords.drop_duplicates(),\n",
    "    right_on= \"coords\",\n",
    "    left_on=\"dropoffcoords\",\n",
    "    how = 'left'\n",
    "\n",
    ").rename(columns={\"zip\":\"dropoffzip\"})\n",
    "\n",
    "df_raw['tripstarttimestamp'] = pd.to_datetime(df_raw['tripstarttimestamp'])\n",
    "df_raw['tripendtimestamp'] = pd.to_datetime(df_raw['tripendtimestamp'])\n",
    "\n",
    "df_raw = df_raw.astype(\n",
    "    {'tripseconds':'float64'},\n",
    "    {'tripmiles':'float64'}\n",
    ")"
   ]
  },
  {
   "cell_type": "code",
   "execution_count": 6,
   "metadata": {},
   "outputs": [
    {
     "name": "stderr",
     "output_type": "stream",
     "text": [
      "C:\\Users\\BrettMele\\AppData\\Local\\Temp\\ipykernel_27784\\1891534246.py:2: SettingWithCopyWarning: \n",
      "A value is trying to be set on a copy of a slice from a DataFrame.\n",
      "Try using .loc[row_indexer,col_indexer] = value instead\n",
      "\n",
      "See the caveats in the documentation: https://pandas.pydata.org/pandas-docs/stable/user_guide/indexing.html#returning-a-view-versus-a-copy\n",
      "  df[\"tripdate\"] = df[\"tripstarttimestamp\"].dt.date\n",
      "C:\\Users\\BrettMele\\AppData\\Local\\Temp\\ipykernel_27784\\1891534246.py:3: SettingWithCopyWarning: \n",
      "A value is trying to be set on a copy of a slice from a DataFrame.\n",
      "Try using .loc[row_indexer,col_indexer] = value instead\n",
      "\n",
      "See the caveats in the documentation: https://pandas.pydata.org/pandas-docs/stable/user_guide/indexing.html#returning-a-view-versus-a-copy\n",
      "  df[\"tripweekday\"] = df[\"tripstarttimestamp\"].dt.weekday\n"
     ]
    }
   ],
   "source": [
    "df = df_raw[[\"tripid\",\"taxiid\",\"tripstarttimestamp\",\"tripendtimestamp\",\"tripseconds\",\"tripmiles\",\"dropoffzip\",\"pickupzip\",\"pickupcoords\",\"dropoffcoords\"]]\n",
    "df[\"tripdate\"] = df[\"tripstarttimestamp\"].dt.date\n",
    "df[\"tripweekday\"] = df[\"tripstarttimestamp\"].dt.weekday"
   ]
  },
  {
   "cell_type": "code",
   "execution_count": 7,
   "metadata": {},
   "outputs": [],
   "source": [
    "df_agg1 = df.groupby([\"tripdate\",\"pickupzip\"]).size().reset_index(name=\"count\")\n",
    "df_agg2 = df.groupby([\"tripdate\",\"dropoffzip\"]).size().reset_index(name=\"count\")"
   ]
  },
  {
   "cell_type": "code",
   "execution_count": 32,
   "metadata": {},
   "outputs": [],
   "source": [
    "df_agg = pd.concat(\n",
    "    [\n",
    "    df_agg1.rename(columns={\"pickupzip\":\"zip\"}),\n",
    "    df_agg2.rename(columns={\"dropoffzip\":\"zip\"})\n",
    "    ]\n",
    ").groupby(['tripdate','zip']).sum('count').reset_index()\n",
    "\n",
    "df_agg = df_agg.rename(columns={'count':'trips'})"
   ]
  },
  {
   "cell_type": "code",
   "execution_count": 33,
   "metadata": {},
   "outputs": [],
   "source": [
    "df_agg['pred_next_day'] = df_agg.groupby('zip')['trips'].transform(lambda x: x.rolling(window = 2, min_periods=1).median())\n",
    "df_agg['pred_next_week'] = df_agg.groupby('zip')['trips'].transform(lambda x: x.rolling(window = 7, min_periods=5).sum())\n",
    "df_agg['pred_next_week'] = df_agg['pred_next_week'].fillna(df_agg['pred_next_day']*0.90*7)"
   ]
  },
  {
   "cell_type": "code",
   "execution_count": 35,
   "metadata": {},
   "outputs": [],
   "source": [
    "# write to mart\n",
    "connection_string = f\"postgresql+psycopg2://{USER}:%s@{MART}:{PORT}/{DB}\"\n",
    "pgmart = create_engine(connection_string % quote(PWD))\n",
    "conn = pgmart.connect()\n",
    "\n",
    "df.to_sql(\"requirement_4_taxi_trips\",schema=\"public\", con = conn, if_exists=\"replace\")\n",
    "df_agg.to_sql(\"requirement_4_taxi_trips_forecast\",schema=\"public\",con=conn, if_exists=\"replace\")\n",
    "\n",
    "conn.close()"
   ]
  }
 ],
 "metadata": {
  "kernelspec": {
   "display_name": "base",
   "language": "python",
   "name": "python3"
  },
  "language_info": {
   "codemirror_mode": {
    "name": "ipython",
    "version": 3
   },
   "file_extension": ".py",
   "mimetype": "text/x-python",
   "name": "python",
   "nbconvert_exporter": "python",
   "pygments_lexer": "ipython3",
   "version": "3.9.13"
  },
  "orig_nbformat": 4
 },
 "nbformat": 4,
 "nbformat_minor": 2
}
